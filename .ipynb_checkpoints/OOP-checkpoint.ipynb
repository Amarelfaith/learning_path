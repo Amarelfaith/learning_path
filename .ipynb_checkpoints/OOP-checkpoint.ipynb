{
 "cells": [
  {
   "cell_type": "markdown",
   "id": "f4fe2692-faaa-4df2-a3e8-86931918ff24",
   "metadata": {},
   "source": [
    "# Object-Oriented Programming"
   ]
  },
  {
   "cell_type": "markdown",
   "id": "f57ca190-3cd9-4541-aaac-69aac416274b",
   "metadata": {},
   "source": [
    "# Classes\n",
    "The focal point of OOP are objects, which are created using classes. The class describe what the object willbe, but is seperate from the object itself. In other words, a class can be described as an object's blueprint, description, or definition.\n",
    "\n",
    "The init method is the most important method in a class. This is called when(object) of the class is created using the class name as a function."
   ]
  },
  {
   "cell_type": "code",
   "execution_count": 3,
   "id": "84638415-2274-4b8b-bf7e-ef0434e33a31",
   "metadata": {},
   "outputs": [
    {
     "name": "stdout",
     "output_type": "stream",
     "text": [
      "<class '__main__.Cat'>\n",
      "ginger\n"
     ]
    }
   ],
   "source": [
    "class Cat:\n",
    "    def __init__(self, color, legs):\n",
    "        self.color = color\n",
    "        self.legs = legs\n",
    "\n",
    "felix = Cat('ginger', 4)\n",
    "rover = Cat('dog-colored', 4)\n",
    "stumpy = Cat('brown', 3)\n",
    "\n",
    "print(type(felix))\n",
    "print(felix.color)"
   ]
  },
  {
   "cell_type": "code",
   "execution_count": 5,
   "id": "8af4d97d-d21b-4c25-817a-cfa78a0a08df",
   "metadata": {},
   "outputs": [
    {
     "name": "stdout",
     "output_type": "stream",
     "text": [
      "<__main__.Car object at 0x107cc9010>\n"
     ]
    }
   ],
   "source": [
    "class Car:\n",
    "    def __init__(self, brand, color, engine):\n",
    "        self. brand = brand\n",
    "        self.color = color\n",
    "        self.engine = engine\n",
    "\n",
    "A4 = Car('Audi','Blue','v4')\n",
    "c300 = Car('Mercedese', 'Black','v6')\n",
    "P406 = Car('Peogeut', 'Gray', 'v6')\n",
    "\n",
    "print(P406)"
   ]
  },
  {
   "cell_type": "code",
   "execution_count": 6,
   "id": "ad4dcd2c-fd4f-4300-8978-8c0a2b144c1f",
   "metadata": {},
   "outputs": [
    {
     "name": "stdout",
     "output_type": "stream",
     "text": [
      "Woof\n"
     ]
    }
   ],
   "source": [
    "class Dog:\n",
    "    def __init__(self, color, breed):\n",
    "        self.color = color\n",
    "        self.breed = breed\n",
    "\n",
    "    def bark(self):\n",
    "        print('Woof')\n",
    "\n",
    "boy = Dog('ginger', 'african')\n",
    "boy.bark()"
   ]
  },
  {
   "cell_type": "code",
   "execution_count": 24,
   "id": "2a534b0a-802c-41c8-a65f-10981444bfc8",
   "metadata": {},
   "outputs": [
    {
     "name": "stdout",
     "output_type": "stream",
     "text": [
      "amar  (Level  11 )\n"
     ]
    }
   ],
   "source": [
    "class Player:\n",
    "    def __init__(self, name, level):\n",
    "        self.name = name\n",
    "        self.level = level\n",
    "\n",
    "    def intro(self):\n",
    "        print(self.name, ' (Level ', self.level, ')')\n",
    "\n",
    "player_name = 'amar'\n",
    "player_level = 11\n",
    "player = Player(player_name, player_level)\n",
    "\n",
    "player.intro()"
   ]
  },
  {
   "cell_type": "markdown",
   "id": "ed5e8c59-a16a-4c6d-aeaf-50d19d34e469",
   "metadata": {},
   "source": [
    "# Inheritance\n",
    "Inheritance provides a way to share functionality between classes. Imagine several classes, Dog, Cat, Rabbit, and so on. Although they may differ in some ways(only dog might have the method bark), they are likely to be similar in others (all having attributes color and name)."
   ]
  },
  {
   "cell_type": "code",
   "execution_count": 1,
   "id": "e224fcc8-5ab3-47ab-8957-3ef7b2273286",
   "metadata": {},
   "outputs": [
    {
     "name": "stdout",
     "output_type": "stream",
     "text": [
      "marcus and scooby are frineds!\n",
      "marcus is ginger and scooby is black\n",
      "marcus : meow...\n",
      "scooby: woof..\n"
     ]
    }
   ],
   "source": [
    "# superclass\n",
    "class Animal:\n",
    "    def __init__(self, color, name):\n",
    "        self.color = color\n",
    "        self.name = name\n",
    "\n",
    "# subclasses\n",
    "class Cat(Animal):\n",
    "    def purr(self):\n",
    "        print(self.name,': meow...')\n",
    "\n",
    "class Dog(Animal):\n",
    "    # defining a method \n",
    "    def bark(self):\n",
    "        print(self.name + ':', 'woof..')\n",
    "\n",
    "# objects\n",
    "cat1 = Cat('ginger', 'marcus')\n",
    "dog1 = Dog('black', 'scooby')\n",
    "\n",
    "# messing around and calling some methods\n",
    "print(cat1.name, 'and', dog1.name, 'are frineds!')\n",
    "print(cat1.name, 'is', cat1.color, 'and', dog1.name, 'is', dog1.color)\n",
    "\n",
    "cat1.purr()\n",
    "dog1.bark()"
   ]
  },
  {
   "cell_type": "code",
   "execution_count": 27,
   "id": "f86b5001-6738-4d2f-8018-237a0fb6def0",
   "metadata": {},
   "outputs": [
    {
     "name": "stdout",
     "output_type": "stream",
     "text": [
      "2\n",
      "1\n"
     ]
    }
   ],
   "source": [
    "# superclass\n",
    "class A:\n",
    "    def spam(self):\n",
    "        print(1)\n",
    "\n",
    "# subclass\n",
    "class B(A):\n",
    "    def spam(self):\n",
    "             print(2)\n",
    "        # the super() function calls the spam method of the super class A\n",
    "             super().spam()\n",
    "\n",
    "# calling class B without creating an object.\n",
    "B().spam()"
   ]
  },
  {
   "cell_type": "code",
   "execution_count": 10,
   "id": "592a631e-d0ed-4647-9119-07cd43405de6",
   "metadata": {},
   "outputs": [
    {
     "name": "stdout",
     "output_type": "stream",
     "text": [
      "vrroooooomm.........\n"
     ]
    }
   ],
   "source": [
    "# Testing my understanding\n",
    "# create a superclass of car \n",
    "class Car:\n",
    "    def __init__(self, brand, model, color):\n",
    "        self.brand = brand\n",
    "        self.model = model\n",
    "        self.color = color\n",
    "\n",
    "class Audi(Car):\n",
    "    def __init_subclass__(self, make, finish):\n",
    "        self.make = make\n",
    "        self.finish = finish\n",
    "\n",
    "    def rev(self):\n",
    "        print('vrroooooomm.........')\n",
    "\n",
    "car1 = Audi('Audi','S8','Grey')\n",
    "car1.rev()\n",
    "# Learn about how to add attributes in a subclass "
   ]
  },
  {
   "cell_type": "code",
   "execution_count": 12,
   "id": "caff4ab5-6c11-4df0-b45f-ef6f7dd45b1b",
   "metadata": {},
   "outputs": [
    {
     "name": "stdout",
     "output_type": "stream",
     "text": [
      "yes\n"
     ]
    }
   ],
   "source": [
    "class students:\n",
    "    def __init__(self, matric_no, name, level, department, faculty):\n",
    "        self.matric_no = matric_no\n",
    "        self.name = name\n",
    "        self.level = level\n",
    "        self.department = department\n",
    "        self.faculty = faculty\n",
    "\n",
    "    def is_active(self):\n",
    "        return True\n",
    "student_00 = students('cos/19u/1967', 'abubakar muhammad', '400', 'computer science', 'computing')\n",
    "#print(vars(student_00))\n",
    "\n",
    "class graduated_student(students):\n",
    "    def __init__(self, *args, is_graduate, **kwargs):\n",
    "        super().__init__(*args,**kwargs)\n",
    "        self.is_graduate = is_graduate\n",
    "\n",
    "graduate_00 = graduated_student('99','abubakar','null','computer science', 'computing', is_graduate='yes')\n",
    "print(graduate_00.is_graduate)\n",
    "\n",
    "        "
   ]
  },
  {
   "cell_type": "code",
   "execution_count": 13,
   "id": "fad02112-07b4-4674-b068-415bed2ffe74",
   "metadata": {},
   "outputs": [
    {
     "name": "stdout",
     "output_type": "stream",
     "text": [
      "{'brand': 'Apple', 'RAM': '4GB', 'ROM': '128GB', 'screen_size': '13in', 'model': 'MacBook Air', 'year': 2013}\n"
     ]
    }
   ],
   "source": [
    "class computer:\n",
    "    def __init__(self, brand, RAM, ROM, screen_size, model):\n",
    "        self.brand = brand\n",
    "        self.RAM = RAM\n",
    "        self.ROM = ROM\n",
    "        self.screen_size = screen_size\n",
    "        self.model = model\n",
    "\n",
    "class Apple(computer):\n",
    "    def __init__(self, *args, year, **kwargs):\n",
    "        super().__init__(*args,**kwargs)\n",
    "        self.year = year\n",
    "\n",
    "computer_00 = Apple('Apple','4GB','128GB','13in','MacBook Air', year=2013)\n",
    "print(vars(computer_00))"
   ]
  },
  {
   "cell_type": "markdown",
   "id": "89f3fa85-af53-4569-a17f-2fcfe8df3af0",
   "metadata": {},
   "source": [
    "# Magic Methods\n",
    "Magic methods are special methods  which have  double underscore at the beginning and end of their names, they are also called dunder.\n",
    "They are used to create functionality that can't be represented as a normal method."
   ]
  },
  {
   "cell_type": "code",
   "execution_count": 18,
   "id": "c7bcbf4b-823c-4440-bebf-f7898473c310",
   "metadata": {},
   "outputs": [
    {
     "name": "stdout",
     "output_type": "stream",
     "text": [
      "{'x': 8, 'y': 17}\n"
     ]
    }
   ],
   "source": [
    "class Vector2D:\n",
    "    def __init__(self, x, y):\n",
    "        self.x = x\n",
    "        self.y = y\n",
    "    def __add__(self,other):\n",
    "        return Vector2D(self.x + other.x, self.y + other.y)\n",
    "\n",
    "first = Vector2D(5, 7)\n",
    "second = Vector2D(3, 10)\n",
    "result = first + second\n",
    "print(vars(result))"
   ]
  },
  {
   "cell_type": "code",
   "execution_count": 19,
   "id": "1da057dc-f76e-45f8-82b3-2e862055fdf1",
   "metadata": {},
   "outputs": [
    {
     "name": "stdout",
     "output_type": "stream",
     "text": [
      "spam\n",
      "===========\n",
      "hello world\n"
     ]
    }
   ],
   "source": [
    "class specialString: \n",
    "    def __init__(self, cont): \n",
    "        self.cont = cont\n",
    "\n",
    "    def __truediv__(self,other): \n",
    "        line = '=' * len(other.cont)\n",
    "        return \"\\n\".join([self.cont,line,other.cont])\n",
    "\n",
    "spam = specialString('spam')\n",
    "hello = specialString('hello world')\n",
    "print(spam / hello)"
   ]
  },
  {
   "cell_type": "code",
   "execution_count": 43,
   "id": "4861fe1b-fff9-4863-b46e-205466992999",
   "metadata": {},
   "outputs": [
    {
     "name": "stdout",
     "output_type": "stream",
     "text": [
      "Employee('abubakar', 'muhammad', 20800)\n",
      "Fullname: abubakar muhammad Email: abubakar.muhammad@email.com Pay: 20800\n",
      "Fullname: Muhammad Abubakar Email: Muhammad.Abubakar@email.com Pay: 31200\n",
      "Employee('Muhammad', 'Abubakar', 31200)\n",
      "Total pay: 52000\n"
     ]
    }
   ],
   "source": [
    "class Employee:\n",
    "    raise_amt = 1.04\n",
    "    def __init__(self, first_name, last_name, pay):\n",
    "        self.first_name = first_name\n",
    "        self.last_name = last_name\n",
    "        self.email = first_name + '.' + last_name + '@email.com'\n",
    "        self.pay = pay\n",
    "\n",
    "    def fullname(self):\n",
    "        return '{} {}'.format(self.first_name, self.last_name)\n",
    "\n",
    "    def apply_raise(self):\n",
    "        self.pay = int(self.pay * self.raise_amt)\n",
    "        \n",
    "    def __repr__(self):\n",
    "        return \"Employee('{}', '{}', {})\".format(self.first_name, self.last_name, self.pay)\n",
    "\n",
    "    def __str__(self):\n",
    "        return 'Fullname: {} Email: {} Pay: {}'.format(self.fullname(), self.email, self.pay)\n",
    "\n",
    "    def __add__(self, other):\n",
    "        return self.pay + other.pay\n",
    "\n",
    "    def __len__(self):\n",
    "        return len(self.fullname())\n",
    "empl_1 = Employee('abubakar', 'muhammad', 20000)\n",
    "empl_1.apply_raise()\n",
    "print(repr(empl_1))\n",
    "print(str(empl_1))\n",
    "\n",
    "empl_2 = Employee('Muhammad', \"Abubakar\", 30000)\n",
    "empl_2.apply_raise()\n",
    "print(str(empl_2))\n",
    "print(repr(empl_2))\n",
    "print('Total pay:', empl_1 + empl_2)"
   ]
  },
  {
   "cell_type": "code",
   "execution_count": 45,
   "id": "ed32bb14-21a3-419e-8f52-e6d1501abe3d",
   "metadata": {},
   "outputs": [
    {
     "name": "stdout",
     "output_type": "stream",
     "text": [
      "17\n"
     ]
    }
   ],
   "source": [
    "print(empl_1.__len__())"
   ]
  },
  {
   "cell_type": "code",
   "execution_count": 57,
   "id": "9ea626e7-ee1b-413d-8ba3-380c7f79d7c1",
   "metadata": {},
   "outputs": [
    {
     "name": "stdout",
     "output_type": "stream",
     "text": [
      "48\n",
      "False\n"
     ]
    }
   ],
   "source": [
    "class Shape:\n",
    "    def __init__(self, w, h):\n",
    "        self.width = w\n",
    "        self.height = h\n",
    "        \n",
    "    def area(self):\n",
    "        return self.width * self.height\n",
    "        \n",
    "    def __add__(self, other):\n",
    "        sum_w = self.width + other.width\n",
    "        sum_h = self.height + other.height\n",
    "        return Shape(sum_w, sum_h)\n",
    "\n",
    "    def __gt__(self, other):\n",
    "        return self.area() > other.area()\n",
    "\n",
    "shape_1 = Shape(2,3)\n",
    "shape_2 = Shape(4,5)\n",
    "sum = shape_1 + shape_2\n",
    "comp = shape_1 > shape_2\n",
    "print(sum.area())\n",
    "print(comp)"
   ]
  },
  {
   "cell_type": "markdown",
   "id": "82d415d4-ebad-41aa-a52c-e807fb29c73e",
   "metadata": {},
   "source": [
    "# Data Hiding\n",
    "A key part of OOP is encapsulation, which involves packaging of related variables and functions into a single easy-to-use object -- an instance of a class.\n",
    "A related concept is data hiding, which states that implementation details of a class should be hidden, and a clean standard interface be presented for those who want to use the class."
   ]
  },
  {
   "cell_type": "code",
   "execution_count": 81,
   "id": "af730837-d773-4445-a9e3-9bbad4d5b192",
   "metadata": {},
   "outputs": [
    {
     "name": "stdout",
     "output_type": "stream",
     "text": [
      "Queue([1, 2, 3])\n",
      "Queue([-2, -1, 0, 1, 2, 3])\n",
      "Length of Queue:  6\n",
      "Queue([0, -2, -1, 0, 1, 2, 3])\n",
      "Queue([1, 0, -2, -1, 0, 1, 2, 3])\n",
      "Queue([2, 1, 0, -2, -1, 0, 1, 2, 3])\n",
      "Queue([3, 2, 1, 0, -2, -1, 0, 1, 2, 3])\n",
      "Queue([4, 3, 2, 1, 0, -2, -1, 0, 1, 2, 3])\n",
      "Queue([5, 4, 3, 2, 1, 0, -2, -1, 0, 1, 2, 3])\n",
      "Queue([6, 5, 4, 3, 2, 1, 0, -2, -1, 0, 1, 2, 3])\n",
      "Queue([7, 6, 5, 4, 3, 2, 1, 0, -2, -1, 0, 1, 2, 3])\n",
      "Queue([8, 7, 6, 5, 4, 3, 2, 1, 0, -2, -1, 0, 1, 2, 3])\n",
      "Queue([9, 8, 7, 6, 5, 4, 3, 2, 1, 0, -2, -1, 0, 1, 2, 3])\n",
      "Queue([9, 8, 7, 6, 5, 4, 3, 2, 1, 0, -2, -1, 0, 1, 2])\n",
      "Queue([9, 8, 7, 6, 5, 4, 3, 2, 1, 0, -2, -1, 0, 1])\n",
      "Queue([9, 8, 7, 6, 5, 4, 3, 2, 1, 0, -2, -1, 0])\n",
      "Queue([9, 8, 7, 6, 5, 4, 3, 2, 1, 0, -2, -1])\n",
      "Queue([9, 8, 7, 6, 5, 4, 3, 2, 1, 0, -2])\n",
      "Queue([9, 8, 7, 6, 5, 4, 3, 2, 1, 0])\n",
      "Queue([9, 8, 7, 6, 5, 4, 3, 2, 1])\n",
      "Queue([9, 8, 7, 6, 5, 4, 3, 2])\n",
      "Queue([9, 8, 7, 6, 5, 4, 3])\n",
      "Queue([9, 8, 7, 6, 5, 4])\n",
      "Queue([9, 8, 7, 6, 5])\n",
      "Queue([9, 8, 7, 6])\n",
      "Queue([9, 8, 7])\n",
      "Queue([9, 8])\n",
      "Queue([9])\n",
      "Queue([])\n"
     ]
    }
   ],
   "source": [
    "\"\"\"\n",
    "Weak private methods and attributes have a single underscore at the beginning.\n",
    "This signals that they are private, and shouldn't be used by external code. However, it is mostly just a convention, and does not stop \n",
    "external code from accessing them.\n",
    "Example: In the code below, the attribute _hiddenlist is marked as private\n",
    "\"\"\"\n",
    "class Queue:\n",
    "    def __init__(self, contents):\n",
    "        self._hiddenlist = list(contents)\n",
    "\n",
    "    def push(self, value):\n",
    "        self._hiddenlist.insert(0, value)\n",
    "\n",
    "    def pop(self):\n",
    "        return self._hiddenlist.pop(-1)\n",
    "\n",
    "    def __repr__(self):\n",
    "        return 'Queue({})'.format(self._hiddenlist)\n",
    "\n",
    "    def __len__(self):\n",
    "        return len(self._hiddenlist)\n",
    "\n",
    "queue = Queue([1,2,3])\n",
    "print(queue)\n",
    "queue.push(0)\n",
    "queue.push(-1)\n",
    "queue.push(-2)\n",
    "print(queue)\n",
    "print('Length of Queue: ',len(queue))\n",
    "\n",
    "# Let's add 10 more values to the queque\n",
    "for i in range(10):\n",
    "    queue.push(i)\n",
    "    print(queue)\n",
    "\n",
    "# Let's delete all the values in queue\n",
    "for i in range(len(queue)):\n",
    "    queue.pop()\n",
    "    print(queue)"
   ]
  },
  {
   "cell_type": "code",
   "execution_count": 84,
   "id": "ef8c2146-c37d-47a9-bcd1-09422a5abdb7",
   "metadata": {},
   "outputs": [
    {
     "name": "stdout",
     "output_type": "stream",
     "text": [
      "7\n",
      "7\n"
     ]
    }
   ],
   "source": [
    "\"\"\"\n",
    "Strong private methods and attributes have a double underscore at the beginning of their names.\n",
    "This causes their names to be mangled, which means that they can't be accessed outside the class.\n",
    "The pusrpose of this isn't to ensure that they are kept private, but to avoid bugs if there are subclasses that have methods or \n",
    "attributes with the same names. Name mangled methods can still be accessed externally, but by a different name. The method __privatemethod \n",
    "of a class Spam could be accessed externally with _Spam__privatemethod.\n",
    "Basically, Python protects those members by internally changing the name to include the class name.\n",
    "\"\"\"\n",
    "\n",
    "class Spam:\n",
    "    __egg = 7\n",
    "    def print_egg(self):\n",
    "        print(self.__egg)\n",
    "\n",
    "s = Spam()\n",
    "s.print_egg()\n",
    "print(s._Spam__egg)\n",
    "print(s.__egg)"
   ]
  },
  {
   "cell_type": "code",
   "execution_count": null,
   "id": "80af5b14-1892-47d7-92ad-05e48f187c42",
   "metadata": {},
   "outputs": [],
   "source": []
  }
 ],
 "metadata": {
  "kernelspec": {
   "display_name": "Python 3 (ipykernel)",
   "language": "python",
   "name": "python3"
  },
  "language_info": {
   "codemirror_mode": {
    "name": "ipython",
    "version": 3
   },
   "file_extension": ".py",
   "mimetype": "text/x-python",
   "name": "python",
   "nbconvert_exporter": "python",
   "pygments_lexer": "ipython3",
   "version": "3.12.4"
  }
 },
 "nbformat": 4,
 "nbformat_minor": 5
}
