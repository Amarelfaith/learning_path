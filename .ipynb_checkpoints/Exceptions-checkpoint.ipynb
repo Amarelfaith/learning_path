{
 "cells": [
  {
   "cell_type": "markdown",
   "id": "cb598d9c-0b73-40ed-8040-5290fed4b2a7",
   "metadata": {},
   "source": [
    "# Exceptions\n",
    "An exception is an event, which occurs during the execution of a program that distrupt the normal flow of the program.\n",
    "They occur when something goes wrong, due to incorrect code or input."
   ]
  },
  {
   "cell_type": "code",
   "execution_count": 1,
   "id": "0626386f-3e7d-4eb0-872d-d35d58a81647",
   "metadata": {},
   "outputs": [
    {
     "ename": "ZeroDivisionError",
     "evalue": "division by zero",
     "output_type": "error",
     "traceback": [
      "\u001b[0;31m---------------------------------------------------------------------------\u001b[0m",
      "\u001b[0;31mZeroDivisionError\u001b[0m                         Traceback (most recent call last)",
      "Cell \u001b[0;32mIn[1], line 4\u001b[0m\n\u001b[1;32m      2\u001b[0m num1 \u001b[38;5;241m=\u001b[39m \u001b[38;5;241m7\u001b[39m\n\u001b[1;32m      3\u001b[0m num2 \u001b[38;5;241m=\u001b[39m \u001b[38;5;241m0\u001b[39m\n\u001b[0;32m----> 4\u001b[0m \u001b[38;5;28mprint\u001b[39m(num1\u001b[38;5;241m/\u001b[39mnum2)\n",
      "\u001b[0;31mZeroDivisionError\u001b[0m: division by zero"
     ]
    }
   ],
   "source": [
    "# eg. the following code produces ZeroDivisionError exception by trying to divide 7 by 0\n",
    "num1 = 7\n",
    "num2 = 0\n",
    "print(num1/num2)"
   ]
  },
  {
   "cell_type": "markdown",
   "id": "6b21ffa8-c3bc-401e-bd82-302a503a600e",
   "metadata": {},
   "source": [
    "# Exception Handling\n",
    "To handle exceptions, and to call code when an exception occurs, you can use a try/except statement.\n",
    "The 'try' block contains code that might throw an exception, if that exception occurs, the code in the 'try' block stops being executed, and the code in the 'except' block is run. If no error occurs, the code in the exception block doesn't run."
   ]
  },
  {
   "cell_type": "code",
   "execution_count": 3,
   "id": "44249e36-9e4a-4884-8e76-e3c37f90d253",
   "metadata": {},
   "outputs": [
    {
     "name": "stdout",
     "output_type": "stream",
     "text": [
      "An error occured\n"
     ]
    }
   ],
   "source": [
    "# Example: in the code below, the except statement define the type of exception to handle (in our case, the ZeroDivisionError)\n",
    "try:\n",
    "    num1 = 7\n",
    "    num2 = 0\n",
    "    print(num1/num2)\n",
    "    print('This will print if no error occurs')\n",
    "except ZeroDivisionError: \n",
    "    print('An error occured')"
   ]
  },
  {
   "cell_type": "markdown",
   "id": "5db8f962-e7a8-4b9f-b1fd-b195a2e59378",
   "metadata": {},
   "source": [
    "A 'try' statement can have multiple different except blocks to handle different exceptions.\n",
    "Multiple exceptions can also be put into a single except block using parentheses, to have the except block handle all of them."
   ]
  },
  {
   "cell_type": "code",
   "execution_count": 4,
   "id": "46d13cc2-c48e-49a5-9a4f-36de1b36a7b5",
   "metadata": {},
   "outputs": [
    {
     "name": "stdout",
     "output_type": "stream",
     "text": [
      "Error occured\n"
     ]
    }
   ],
   "source": [
    "try: \n",
    "    var = 10\n",
    "    print(var + 'Hello')\n",
    "    print(var/2)\n",
    "except ZeroDivisionError:\n",
    "    print('Divided by Zero')\n",
    "except(ValueError, TypeError):\n",
    "    print('Error occured')"
   ]
  },
  {
   "cell_type": "markdown",
   "id": "81760f63-27bf-44a5-8ae5-beba68eb7af4",
   "metadata": {},
   "source": [
    "An except statement without any exception specified will catch all errors. These should be used sparingly, as they can catch unexpected errors and hid programming mistakes."
   ]
  },
  {
   "cell_type": "code",
   "execution_count": 5,
   "id": "270f64bf-d611-4dbd-b177-17fe9d8bf78b",
   "metadata": {},
   "outputs": [
    {
     "name": "stdout",
     "output_type": "stream",
     "text": [
      "An Error occur\n"
     ]
    }
   ],
   "source": [
    "try:\n",
    "    word = 'Spam'\n",
    "    print(word/0)\n",
    "except: print('An Error occur')"
   ]
  },
  {
   "cell_type": "markdown",
   "id": "79cec855-70df-4ee3-8ad2-2b8d04f178ed",
   "metadata": {},
   "source": [
    "# Finally and Else\n",
    "Finally: after 'try/except' statement, a 'finally' block can follow. It will execute after the 'try/except' block, no matter if an error occured or not.\n",
    "This block is usefule, for example, when working with files or resources are closed or released regeardless of whether an exception occurs."
   ]
  },
  {
   "cell_type": "code",
   "execution_count": 1,
   "id": "2c95f549-86fd-4526-ac68-d9ad03f217e6",
   "metadata": {},
   "outputs": [
    {
     "name": "stdout",
     "output_type": "stream",
     "text": [
      "Hello!\n",
      "Divided by 0\n",
      "This code will run no matter what\n"
     ]
    }
   ],
   "source": [
    "try: \n",
    "    print('Hello!')\n",
    "    print(10/0)\n",
    "except ZeroDivisionError:\n",
    "    print('Divided by 0')\n",
    "finally:\n",
    "    print('This code will run no matter what')"
   ]
  },
  {
   "cell_type": "markdown",
   "id": "658c7ceb-becb-40e3-9a67-f09bc1717ad4",
   "metadata": {},
   "source": [
    "Else: The else statement can also be used with 'try/except' statements. In this case, the code within it is only excuted if no error occurs in the 'try' block."
   ]
  },
  {
   "cell_type": "code",
   "execution_count": 2,
   "id": "0cb6ff30-8081-4a97-9df8-5404026dca4e",
   "metadata": {},
   "outputs": [
    {
     "name": "stdout",
     "output_type": "stream",
     "text": [
      "1\n",
      "3\n"
     ]
    }
   ],
   "source": [
    "try:\n",
    "    print(1)\n",
    "except ZeroDivisionError:\n",
    "    print(2)\n",
    "else: print(3)\n",
    "    "
   ]
  },
  {
   "cell_type": "code",
   "execution_count": null,
   "id": "e33c135c-0268-447a-a969-21ece811a15a",
   "metadata": {},
   "outputs": [],
   "source": []
  }
 ],
 "metadata": {
  "kernelspec": {
   "display_name": "Python 3 (ipykernel)",
   "language": "python",
   "name": "python3"
  },
  "language_info": {
   "codemirror_mode": {
    "name": "ipython",
    "version": 3
   },
   "file_extension": ".py",
   "mimetype": "text/x-python",
   "name": "python",
   "nbconvert_exporter": "python",
   "pygments_lexer": "ipython3",
   "version": "3.12.4"
  }
 },
 "nbformat": 4,
 "nbformat_minor": 5
}
