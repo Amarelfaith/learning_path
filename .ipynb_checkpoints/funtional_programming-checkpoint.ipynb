{
 "cells": [
  {
   "cell_type": "markdown",
   "id": "0960eccf-2456-45f3-bcf8-3285eb64943d",
   "metadata": {},
   "source": [
    "# Functional Programming"
   ]
  },
  {
   "cell_type": "markdown",
   "id": "19b2c61a-f7c2-48ea-8f6c-3e8ab1fa4b6e",
   "metadata": {},
   "source": [
    "# Higher-order: \n",
    "is a style of programming that based around functions. A key part of funtional programming is 'Higher-order' function.\n",
    "Higher-order functions take other functions as arguments, or return them as results."
   ]
  },
  {
   "cell_type": "code",
   "execution_count": 3,
   "id": "eb6f6fa4-7e87-4840-b2cf-d464699719c5",
   "metadata": {},
   "outputs": [
    {
     "name": "stdout",
     "output_type": "stream",
     "text": [
      "20\n"
     ]
    }
   ],
   "source": [
    "# example\n",
    "# apply_twice function takes add_five function as argument and calls it twice\n",
    "def apply_twice(func, arg):\n",
    "    return func(func(arg))\n",
    "    \n",
    "def add_five(x):\n",
    "    return x + 5\n",
    "\n",
    "print(apply_twice(add_five, 10))"
   ]
  },
  {
   "cell_type": "markdown",
   "id": "3c92f9b7-bce1-419e-902f-39524d738b35",
   "metadata": {},
   "source": [
    "# Pure function\n",
    "functional programming seeks to use pure functions. Pure functions have no side effects, and return a value that depends only on their arguments"
   ]
  },
  {
   "cell_type": "code",
   "execution_count": 7,
   "id": "2ef514d7-e2ba-482e-aa4e-1759b1d47b0a",
   "metadata": {},
   "outputs": [
    {
     "name": "stdout",
     "output_type": "stream",
     "text": [
      "5\n",
      "[1]\n"
     ]
    }
   ],
   "source": [
    "# example\n",
    "def pure_function(x,y):\n",
    "    temp = x + 2 * y\n",
    "    return temp\n",
    "\n",
    "some_list = []\n",
    "\n",
    "# the function below is impure because it change the state of some_list\n",
    "\n",
    "def impure_function(arg):\n",
    "    some_list.append(arg)\n",
    "    return some_list\n",
    "\n",
    "print(pure_function(1,2))\n",
    "print(impure_function(1))"
   ]
  },
  {
   "cell_type": "markdown",
   "id": "8c7aa661-407e-4fbd-9edc-156e61fc0243",
   "metadata": {},
   "source": [
    "# Lambdas\n",
    "Python allows us to create function on-the-fly provided that they are created using lambda syntax.\n",
    "This approach is most commonly used when passing a simple function as an argument to another funtion. These functions are also called anonymous functions."
   ]
  },
  {
   "cell_type": "code",
   "execution_count": 8,
   "id": "bc66b09a-ed27-4809-94da-05ab21fc67c8",
   "metadata": {},
   "outputs": [
    {
     "name": "stdout",
     "output_type": "stream",
     "text": [
      "50\n"
     ]
    }
   ],
   "source": [
    "# example\n",
    "def my_func(f, arg):\n",
    "    return f(arg)\n",
    "\n",
    "sum = my_func(lambda x: 2*x*x, 5)\n",
    "print(sum)\n",
    "\n"
   ]
  },
  {
   "cell_type": "code",
   "execution_count": 10,
   "id": "ccf7ed39-33ee-4903-b263-bdeefe1bbdb6",
   "metadata": {},
   "outputs": [
    {
     "name": "stdout",
     "output_type": "stream",
     "text": [
      "18\n",
      "18\n"
     ]
    }
   ],
   "source": [
    "# named function\n",
    "def polynomial(x):\n",
    "    print(x**2+5*x+4)\n",
    "\n",
    "polynomial(2)\n",
    "\n",
    "#lambda function\n",
    "print((lambda x: x**2 + 5*x + 4)(2))"
   ]
  },
  {
   "cell_type": "markdown",
   "id": "7ea15761-092f-4d14-b2b5-750a0b795862",
   "metadata": {},
   "source": [
    "# Map & Filter\n",
    "The bulit-in function map and filter are very useful higher-order functions that operates on list (or similar objects called iterables)."
   ]
  },
  {
   "cell_type": "markdown",
   "id": "33bcd592-612d-4ec3-8cdc-eb1bf6518d70",
   "metadata": {},
   "source": [
    "# map\n",
    "The function map takes a function and an iterable as arguments, and returns a new iterable with the function applied to each argument."
   ]
  },
  {
   "cell_type": "code",
   "execution_count": 13,
   "id": "501c05c9-75a7-408b-abdb-ef54eaa79b4b",
   "metadata": {},
   "outputs": [
    {
     "name": "stdout",
     "output_type": "stream",
     "text": [
      "[6, 7, 8, 9, 10]\n"
     ]
    }
   ],
   "source": [
    "# example\n",
    "def add_five(x):\n",
    "    return x + 5\n",
    "\n",
    "nums = [1,2,3,4,5]\n",
    "result = list(map(add_five, nums))\n",
    "print(result)"
   ]
  },
  {
   "cell_type": "code",
   "execution_count": 31,
   "id": "a14c34a3-f96c-42f6-8de6-850261e044c0",
   "metadata": {},
   "outputs": [
    {
     "name": "stdout",
     "output_type": "stream",
     "text": [
      "[6, 7, 8, 9, 10, 11, 12, 13, 14, 15]\n"
     ]
    }
   ],
   "source": [
    "# Imagine you have some list of numbers from 1 to 10, and you are asked to add 5 to each element of the list\n",
    "nums = [1,2,3,4,5,6,7,8,9,10]\n",
    "new_nums = list(map(lambda x: x + 5, nums))\n",
    "print(new_nums)"
   ]
  },
  {
   "cell_type": "markdown",
   "id": "4561f41a-ef82-4fb3-b7d4-aaa5a059efa2",
   "metadata": {},
   "source": [
    "# filter\n",
    "This function filters an iterables by leaving only the items that match a condition (also called a predicate)."
   ]
  },
  {
   "cell_type": "code",
   "execution_count": 36,
   "id": "44fe6184-5b98-43ae-b797-687cf996f604",
   "metadata": {},
   "outputs": [
    {
     "name": "stdout",
     "output_type": "stream",
     "text": [
      "[2, 4, 6, 8, 10]\n"
     ]
    }
   ],
   "source": [
    "# examples\n",
    "nums = [1,2,3,4,5,6,7,8,9,10]\n",
    "even_nums = list(filter(lambda x: x%2==0, nums))\n",
    "print(even_nums)"
   ]
  },
  {
   "cell_type": "markdown",
   "id": "78276e87-85a5-4caf-99f9-b04063d7cf55",
   "metadata": {},
   "source": [
    "# Gnerators"
   ]
  },
  {
   "cell_type": "markdown",
   "id": "0b874822-59e2-411f-bf2a-727034a2deee",
   "metadata": {},
   "source": [
    "# Decorators"
   ]
  },
  {
   "cell_type": "markdown",
   "id": "cade344a-f1c5-4e21-a3c2-803824e6e42b",
   "metadata": {},
   "source": [
    "# Recursion\n",
    "recursion i a very important concept in functional programming. The fundamental part of recursion is self-reference -- functions calling \n",
    "themselves. It is used to solve problems that can be broken into easier sub-problems of the same type."
   ]
  },
  {
   "cell_type": "code",
   "execution_count": 1,
   "id": "7fe333fe-5249-4239-b7f1-b2eb78928911",
   "metadata": {},
   "outputs": [
    {
     "name": "stdout",
     "output_type": "stream",
     "text": [
      "120\n"
     ]
    }
   ],
   "source": [
    "num = 5\n",
    "\n",
    "def factorial(x):\n",
    "    if x == 0 or x == 1:\n",
    "        return 1\n",
    "    else:\n",
    "        return x * factorial(x-1)\n",
    "\n",
    "print(factorial(num))"
   ]
  },
  {
   "cell_type": "code",
   "execution_count": 6,
   "id": "2604da43-9382-46af-9aa2-7a1817099281",
   "metadata": {},
   "outputs": [
    {
     "name": "stdout",
     "output_type": "stream",
     "text": [
      "False\n"
     ]
    }
   ],
   "source": [
    "# recursion can also be indirect. one funtion can call a second , which calls the first, which calls the second and so on\n",
    "\n",
    "def is_even(x):\n",
    "    if x == 0:\n",
    "        return True\n",
    "    else:\n",
    "        return is_odd(x-1)\n",
    "\n",
    "def is_odd(x):\n",
    "    return not is_even(x)\n",
    "    \n",
    "\n",
    "print(is_even(23))"
   ]
  },
  {
   "cell_type": "markdown",
   "id": "6fa4018e-1e08-4827-a9e7-ba2b171cf673",
   "metadata": {},
   "source": [
    "# *args \n",
    "python allows you to have function with varying number of arguments. using args as a function parameter enables you to pass an arbitrary number of arguments to that function. the arguments are then accessible as the tuple args in the body of the function."
   ]
  },
  {
   "cell_type": "code",
   "execution_count": 7,
   "id": "604f3821-b4e6-4481-b0f5-ada6abf3f8f0",
   "metadata": {},
   "outputs": [
    {
     "name": "stdout",
     "output_type": "stream",
     "text": [
      "1\n",
      "(2, 3, 4, 5)\n"
     ]
    }
   ],
   "source": [
    "# example \n",
    "def function(named_arg, *args): \n",
    "    print(named_arg)\n",
    "    print(args)\n",
    "\n",
    "function(1,2,3,4,5)"
   ]
  },
  {
   "cell_type": "markdown",
   "id": "20a5d5da-1d42-43d3-8f7a-2fc427bea193",
   "metadata": {},
   "source": [
    "# **kwargs\n",
    "stands for keyword arguments, allows you to handle named arguments that you have not defined in advance. the keyword arguments return a dictionary in which the keys are the arguments names, and the value are the arguments values."
   ]
  },
  {
   "cell_type": "code",
   "execution_count": 9,
   "id": "97b7ce22-cef3-49b6-83d8-4736adde73b5",
   "metadata": {},
   "outputs": [
    {
     "name": "stdout",
     "output_type": "stream",
     "text": [
      "(4, 5, 6)\n",
      "{'a': 7, 'b': 8}\n"
     ]
    }
   ],
   "source": [
    "# example\n",
    "def my_func(x,y=7,*args,**kwargs):\n",
    "    print(args)\n",
    "    print(kwargs)\n",
    "\n",
    "my_func(2,3,4,5,6,a=7,b=8)"
   ]
  }
 ],
 "metadata": {
  "kernelspec": {
   "display_name": "Python 3 (ipykernel)",
   "language": "python",
   "name": "python3"
  },
  "language_info": {
   "codemirror_mode": {
    "name": "ipython",
    "version": 3
   },
   "file_extension": ".py",
   "mimetype": "text/x-python",
   "name": "python",
   "nbconvert_exporter": "python",
   "pygments_lexer": "ipython3",
   "version": "3.12.4"
  }
 },
 "nbformat": 4,
 "nbformat_minor": 5
}
