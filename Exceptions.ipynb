{
 "cells": [
  {
   "cell_type": "markdown",
   "id": "cb598d9c-0b73-40ed-8040-5290fed4b2a7",
   "metadata": {},
   "source": [
    "# Exceptions\n",
    "An exception is an event, which occurs during the execution of a program that distrupt the normal flow of the program.\n",
    "They occur when something goes wrong, due to incorrect code or input."
   ]
  },
  {
   "cell_type": "code",
   "execution_count": 1,
   "id": "0626386f-3e7d-4eb0-872d-d35d58a81647",
   "metadata": {},
   "outputs": [
    {
     "ename": "ZeroDivisionError",
     "evalue": "division by zero",
     "output_type": "error",
     "traceback": [
      "\u001b[0;31m---------------------------------------------------------------------------\u001b[0m",
      "\u001b[0;31mZeroDivisionError\u001b[0m                         Traceback (most recent call last)",
      "Cell \u001b[0;32mIn[1], line 4\u001b[0m\n\u001b[1;32m      2\u001b[0m num1 \u001b[38;5;241m=\u001b[39m \u001b[38;5;241m7\u001b[39m\n\u001b[1;32m      3\u001b[0m num2 \u001b[38;5;241m=\u001b[39m \u001b[38;5;241m0\u001b[39m\n\u001b[0;32m----> 4\u001b[0m \u001b[38;5;28mprint\u001b[39m(num1\u001b[38;5;241m/\u001b[39mnum2)\n",
      "\u001b[0;31mZeroDivisionError\u001b[0m: division by zero"
     ]
    }
   ],
   "source": [
    "# eg. the following code produces ZeroDivisionError exception by trying to divide 7 by 0\n",
    "num1 = 7\n",
    "num2 = 0\n",
    "print(num1/num2)"
   ]
  },
  {
   "cell_type": "markdown",
   "id": "6b21ffa8-c3bc-401e-bd82-302a503a600e",
   "metadata": {},
   "source": [
    "# Exception Handling\n",
    "To handle exceptions, and to call code when an exception occurs, you can use a try/except statement.\n",
    "The 'try' block contains code that might throw an exception, if that exception occurs, the code in the 'try' block stops being executed, and the code in the 'except' block is run. If no error occurs, the code in the exception block doesn't run."
   ]
  },
  {
   "cell_type": "code",
   "execution_count": 3,
   "id": "44249e36-9e4a-4884-8e76-e3c37f90d253",
   "metadata": {},
   "outputs": [
    {
     "name": "stdout",
     "output_type": "stream",
     "text": [
      "An error occured\n"
     ]
    }
   ],
   "source": [
    "# Example: in the code below, the except statement define the type of exception to handle (in our case, the ZeroDivisionError)\n",
    "try:\n",
    "    num1 = 7\n",
    "    num2 = 0\n",
    "    print(num1/num2)\n",
    "    print('This will print if no error occurs')\n",
    "except ZeroDivisionError: \n",
    "    print('An error occured')"
   ]
  },
  {
   "cell_type": "markdown",
   "id": "5db8f962-e7a8-4b9f-b1fd-b195a2e59378",
   "metadata": {},
   "source": [
    "A 'try' statement can have multiple different except blocks to handle different exceptions.\n",
    "Multiple exceptions can also be put into a single except block using parentheses, to have the except block handle all of them."
   ]
  },
  {
   "cell_type": "code",
   "execution_count": 4,
   "id": "46d13cc2-c48e-49a5-9a4f-36de1b36a7b5",
   "metadata": {},
   "outputs": [
    {
     "name": "stdout",
     "output_type": "stream",
     "text": [
      "Error occured\n"
     ]
    }
   ],
   "source": [
    "try: \n",
    "    var = 10\n",
    "    print(var + 'Hello')\n",
    "    print(var/2)\n",
    "except ZeroDivisionError:\n",
    "    print('Divided by Zero')\n",
    "except(ValueError, TypeError):\n",
    "    print('Error occured')"
   ]
  },
  {
   "cell_type": "markdown",
   "id": "81760f63-27bf-44a5-8ae5-beba68eb7af4",
   "metadata": {},
   "source": [
    "An except statement without any exception specified will catch all errors. These should be used sparingly, as they can catch unexpected errors and hid programming mistakes."
   ]
  },
  {
   "cell_type": "code",
   "execution_count": 5,
   "id": "270f64bf-d611-4dbd-b177-17fe9d8bf78b",
   "metadata": {},
   "outputs": [
    {
     "name": "stdout",
     "output_type": "stream",
     "text": [
      "An Error occur\n"
     ]
    }
   ],
   "source": [
    "try:\n",
    "    word = 'Spam'\n",
    "    print(word/0)\n",
    "except: print('An Error occur')"
   ]
  },
  {
   "cell_type": "markdown",
   "id": "79cec855-70df-4ee3-8ad2-2b8d04f178ed",
   "metadata": {},
   "source": [
    "# Finally and Else\n",
    "Finally: after 'try/except' statement, a 'finally' block can follow. It will execute after the 'try/except' block, no matter if an error occured or not.\n",
    "This block is usefule, for example, when working with files or resources are closed or released regeardless of whether an exception occurs."
   ]
  },
  {
   "cell_type": "code",
   "execution_count": 1,
   "id": "2c95f549-86fd-4526-ac68-d9ad03f217e6",
   "metadata": {},
   "outputs": [
    {
     "name": "stdout",
     "output_type": "stream",
     "text": [
      "Hello!\n",
      "Divided by 0\n",
      "This code will run no matter what\n"
     ]
    }
   ],
   "source": [
    "try: \n",
    "    print('Hello!')\n",
    "    print(10/0)\n",
    "except ZeroDivisionError:\n",
    "    print('Divided by 0')\n",
    "finally:\n",
    "    print('This code will run no matter what')"
   ]
  },
  {
   "cell_type": "markdown",
   "id": "658c7ceb-becb-40e3-9a67-f09bc1717ad4",
   "metadata": {},
   "source": [
    "Else: The else statement can also be used with 'try/except' statements. In this case, the code within it is only excuted if no error occurs in the 'try' block."
   ]
  },
  {
   "cell_type": "code",
   "execution_count": 3,
   "id": "0cb6ff30-8081-4a97-9df8-5404026dca4e",
   "metadata": {},
   "outputs": [
    {
     "name": "stdout",
     "output_type": "stream",
     "text": [
      "1\n",
      "3\n"
     ]
    }
   ],
   "source": [
    "try:\n",
    "    print(1)\n",
    "except ZeroDivisionError:\n",
    "    print(2)\n",
    "else: \n",
    "    print(3)\n",
    "    "
   ]
  },
  {
   "cell_type": "markdown",
   "id": "871d6c05-6be0-4e9d-a227-1ee4b679b580",
   "metadata": {},
   "source": [
    "# Raising Exceptions\n",
    "You can throw (or raise) exceptions when some condition occurs. For example, when you take user input that needs to be in a specific format, you can throw an exception if it does not meet the requirements. This is done using the 'raise' statement.\n",
    "You need to specify type of the exception raised. In the code below, we raise a 'ValueError'."
   ]
  },
  {
   "cell_type": "code",
   "execution_count": 4,
   "id": "755d82e4-c20e-4ae7-8fdb-e6e4bc91a237",
   "metadata": {},
   "outputs": [
    {
     "ename": "ValueError",
     "evalue": "",
     "output_type": "error",
     "traceback": [
      "\u001b[0;31m---------------------------------------------------------------------------\u001b[0m",
      "\u001b[0;31mValueError\u001b[0m                                Traceback (most recent call last)",
      "Cell \u001b[0;32mIn[4], line 2\u001b[0m\n\u001b[1;32m      1\u001b[0m num \u001b[38;5;241m=\u001b[39m \u001b[38;5;241m102\u001b[39m\n\u001b[0;32m----> 2\u001b[0m \u001b[38;5;28;01mif\u001b[39;00m num \u001b[38;5;241m>\u001b[39m \u001b[38;5;241m100\u001b[39m: \u001b[38;5;28;01mraise\u001b[39;00m \u001b[38;5;167;01mValueError\u001b[39;00m\n",
      "\u001b[0;31mValueError\u001b[0m: "
     ]
    }
   ],
   "source": [
    "num = 102\n",
    "if num > 100: raise ValueError"
   ]
  },
  {
   "cell_type": "code",
   "execution_count": 7,
   "id": "7454409f-d620-4e02-9b13-1eb6263a543c",
   "metadata": {},
   "outputs": [
    {
     "ename": "NameError",
     "evalue": "invalid name",
     "output_type": "error",
     "traceback": [
      "\u001b[0;31m---------------------------------------------------------------------------\u001b[0m",
      "\u001b[0;31mNameError\u001b[0m                                 Traceback (most recent call last)",
      "Cell \u001b[0;32mIn[7], line 3\u001b[0m\n\u001b[1;32m      1\u001b[0m \u001b[38;5;66;03m# Exceptions can be raised with arguments that give detail about them.\u001b[39;00m\n\u001b[1;32m      2\u001b[0m name \u001b[38;5;241m=\u001b[39m \u001b[38;5;124m'\u001b[39m\u001b[38;5;124m123\u001b[39m\u001b[38;5;124m'\u001b[39m\n\u001b[0;32m----> 3\u001b[0m \u001b[38;5;28;01mraise\u001b[39;00m \u001b[38;5;167;01mNameError\u001b[39;00m(\u001b[38;5;124m'\u001b[39m\u001b[38;5;124minvalid name\u001b[39m\u001b[38;5;124m'\u001b[39m)\n",
      "\u001b[0;31mNameError\u001b[0m: invalid name"
     ]
    }
   ],
   "source": [
    "# Exceptions can be raised with arguments that give detail about them.\n",
    "name = '123'\n",
    "raise NameError('invalid name')\n",
    "\n",
    "# This makes it easier for other developers to understand why you raised the exception "
   ]
  },
  {
   "cell_type": "code",
   "execution_count": 10,
   "id": "beab6d0c-fa89-491c-a74c-c94cdb5e13f4",
   "metadata": {},
   "outputs": [
    {
     "name": "stdout",
     "output_type": "stream",
     "text": [
      "5\n"
     ]
    }
   ],
   "source": [
    "x = 3\n",
    "try:\n",
    "    x += '2'\n",
    "except:\n",
    "    x += 2\n",
    "else: \n",
    "    x += 4\n",
    "finally: \n",
    "    print(x)"
   ]
  },
  {
   "cell_type": "code",
   "execution_count": 12,
   "id": "7ef4a45f-c98b-431d-b092-9f0cdf5249ca",
   "metadata": {},
   "outputs": [
    {
     "name": "stdout",
     "output_type": "stream",
     "text": [
      "3\n"
     ]
    }
   ],
   "source": [
    "x= 0\n",
    "try:\n",
    "    x += 1\n",
    "    raise ValueError('hhhh')\n",
    "except NameError: \n",
    "    x+=1\n",
    "except ValueError:\n",
    "    x+=1\n",
    "else: \n",
    "    x+=1\n",
    "finally: \n",
    "    x+=1\n",
    "\n",
    "print(x)"
   ]
  },
  {
   "cell_type": "code",
   "execution_count": null,
   "id": "79393bfc-d7f0-4705-9939-0088f78e0041",
   "metadata": {},
   "outputs": [],
   "source": []
  }
 ],
 "metadata": {
  "kernelspec": {
   "display_name": "Python 3 (ipykernel)",
   "language": "python",
   "name": "python3"
  },
  "language_info": {
   "codemirror_mode": {
    "name": "ipython",
    "version": 3
   },
   "file_extension": ".py",
   "mimetype": "text/x-python",
   "name": "python",
   "nbconvert_exporter": "python",
   "pygments_lexer": "ipython3",
   "version": "3.12.4"
  }
 },
 "nbformat": 4,
 "nbformat_minor": 5
}
