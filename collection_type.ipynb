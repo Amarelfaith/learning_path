{
 "cells": [
  {
   "cell_type": "markdown",
   "id": "f0e61f3a-6627-49a2-8ee5-475fc65edade",
   "metadata": {},
   "source": [
    "# Collection Types\n"
   ]
  },
  {
   "cell_type": "markdown",
   "id": "3fe9d0e2-34a8-48ab-aca4-cb826505f3d7",
   "metadata": {},
   "source": [
    "# List\n",
    "list is a collection type that allows you to store indexed values of any type"
   ]
  },
  {
   "cell_type": "code",
   "execution_count": 2,
   "id": "82ddc91e-1dea-4c20-be80-c14984643e4a",
   "metadata": {},
   "outputs": [
    {
     "name": "stdout",
     "output_type": "stream",
     "text": [
      "['Audi', 'BMW', 'VW', 'Mercedes', 'Honda']\n"
     ]
    }
   ],
   "source": [
    "# List example of elements containing the same type\n",
    "cars = ['Audi','BMW','VW','Mercedes','Honda']\n",
    "print(cars)"
   ]
  },
  {
   "cell_type": "code",
   "execution_count": 3,
   "id": "570fe1f8-72db-4b2a-9f31-a2c65c4f69ee",
   "metadata": {},
   "outputs": [
    {
     "name": "stdout",
     "output_type": "stream",
     "text": [
      "['abubakar', 123445, 234.4, 123.546, True]\n"
     ]
    }
   ],
   "source": [
    "# List exaple of elements containing multiple types\n",
    "some_list = ['abubakar', 123445, 234.4,123.546, True]\n",
    "print(some_list)"
   ]
  },
  {
   "cell_type": "raw",
   "id": "14843fbb-d0b0-4f77-8353-0d3b16dbc563",
   "metadata": {},
   "source": [
    "List comprehensions are useful way to quickly creating lists whose content obey a rule.\n",
    "List comprehensions are inspired by set-builder notation in mathematics.\n",
    "List comprehensions can also contain an if statement to enforce a condition on values in the list."
   ]
  },
  {
   "cell_type": "code",
   "execution_count": 19,
   "id": "3af7ce77-c06e-46fb-be7e-cc7cfc9b194b",
   "metadata": {},
   "outputs": [
    {
     "name": "stdout",
     "output_type": "stream",
     "text": [
      "[0, 1, 8, 27, 64]\n",
      "[0, 2, 4, 6, 8, 10, 12, 14, 16, 18]\n",
      "[0, 4, 16, 36, 64]\n"
     ]
    }
   ],
   "source": [
    "# this creates a series of 5 numbers powered by 3\n",
    "cubes = [i**3 for i in range(5)]\n",
    "print(cubes)\n",
    "\n",
    "# this creates numbers of multiple of 2 from 0 to 18\n",
    "nums = [i*2 for i in range(10)]\n",
    "print(nums)\n",
    "\n",
    "# this creates even numbers\n",
    "# this take each integer from the range of 0 to 10, then multiply it by 2\n",
    "evens = [i**2 for i in range(10) if i ** 2 % 2 == 0]\n",
    "print(evens)"
   ]
  },
  {
   "cell_type": "markdown",
   "id": "c460e79c-c35f-466b-a457-29c1d0ccb6bd",
   "metadata": {},
   "source": [
    "# Dictionaries\n",
    "Dictionaries are another collection type and allow you to map arbitrary keys to values.\n",
    "Dictionaries can be indexed in the same way as lists, using sqaure brackets containing keys. Each element in a dictionary is represented by a 'key:value' pair. Only immutable objects can be used as key in dictionaries (i.e string,integer,boolean and any other immutable object)"
   ]
  },
  {
   "cell_type": "code",
   "execution_count": 6,
   "id": "81fc0ff4-4dfe-4d38-a92c-27fc3f11b4b8",
   "metadata": {},
   "outputs": [
    {
     "name": "stdout",
     "output_type": "stream",
     "text": [
      "{'abubakar': 24, 'yusuf': 22, 'nusaiba': 14, 'bintu': 23}\n",
      "\n",
      "abubakar 24\n",
      "yusuf 22\n",
      "nusaiba 14\n",
      "bintu 23\n"
     ]
    }
   ],
   "source": [
    "# Examples of Dictionaries\n",
    "student_age = {'abubakar':24, 'yusuf':22, 'nusaiba':14, 'bintu':23}\n",
    "print(student_age)\n",
    "print()\n",
    "for age in student_age:\n",
    "    print(age, student_age[age])\n",
    "    "
   ]
  },
  {
   "cell_type": "code",
   "execution_count": 10,
   "id": "eefbcf5b-58a7-46b0-9f63-92295c6004b1",
   "metadata": {},
   "outputs": [
    {
     "name": "stdout",
     "output_type": "stream",
     "text": [
      "True\n",
      "False\n",
      "True\n"
     ]
    }
   ],
   "source": [
    "# to determine whether a key is in a dictionary you can use the 'in' and 'not in' just as you can for a list\n",
    "numbers = {\n",
    "    'one':1,\n",
    "    2:'two',\n",
    "    'three':3\n",
    "}\n",
    "\n",
    "print('one' in numbers)\n",
    "\n",
    "# this is going to return false because \"in\" only checks for keys\n",
    "print(1 in numbers)\n",
    "\n",
    "# this return True because it does not exists in the keys\n",
    "print('four' not in numbers)"
   ]
  },
  {
   "cell_type": "raw",
   "id": "ee6d51b8-32ba-4352-8e7f-c7f9be6bdd0f",
   "metadata": {},
   "source": [
    "a useful dictionary function is 'get', it does the same thing as indexing , but if the key is not found in the dictionary it returns another specified value."
   ]
  },
  {
   "cell_type": "code",
   "execution_count": 26,
   "id": "f751741e-2b58-4d76-b5ed-36e0d58426ee",
   "metadata": {},
   "outputs": [
    {
     "name": "stdout",
     "output_type": "stream",
     "text": [
      "[1, 2, 3]\n",
      "42\n",
      "not found\n",
      "Length of dictionary 3\n"
     ]
    }
   ],
   "source": [
    "# Example\n",
    "pairs = {\n",
    "    1:\"apple\",\n",
    "    'orange':[1,2,3],\n",
    "    True:False,\n",
    "    12:'True'\n",
    "}\n",
    "print(pairs.get('orange'))\n",
    "print(pairs.get(7, 42))\n",
    "print(pairs.get(12345,'not found'))\n",
    "\n",
    "# to determine the how many elements are in a dictionary you can use the 'len()' function\n",
    "print('Length of dictionary',len(pairs))\n",
    "# Note: The length of the dictionary is 3 because dictionary keys must be unique. In Python, the key True is treated as 1 (since True is equivalent to 1 in a boolean context). Therefore, the key 1 and the key True are considered the same, and the value associated with the second occurrence of the key (True: False) overwrites the first (1: \"apple\")."
   ]
  },
  {
   "cell_type": "markdown",
   "id": "61f6cf80-04a8-496b-a511-3d49435fdfa5",
   "metadata": {},
   "source": [
    "# Tuples \n",
    "Tuples are very similar to list except that they are immutable(they cannot be changed). Also, they are created using parentheses, rather than square brackets. They can also be indexed"
   ]
  },
  {
   "cell_type": "code",
   "execution_count": 4,
   "id": "f0043413-1b3e-4814-ad4b-2871b4109d89",
   "metadata": {},
   "outputs": [
    {
     "name": "stdout",
     "output_type": "stream",
     "text": [
      "('spam', 'eggs', 'sausages')\n",
      "spam\n",
      "('one', 'two', 3)\n",
      "one\n",
      "two\n",
      "3\n"
     ]
    }
   ],
   "source": [
    "words = ('spam', 'eggs', 'sausages')\n",
    "print(words)\n",
    "print(words[0])\n",
    "\n",
    "# tuples can be created without parentheses\n",
    "my_tuple = 'one','two',3\n",
    "print(my_tuple)\n",
    "\n",
    "for item in my_tuple:\n",
    "    print(item)"
   ]
  },
  {
   "cell_type": "raw",
   "id": "0dabdad4-3bb7-4d9e-bcff-3b13a33422f8",
   "metadata": {},
   "source": [
    "# tuple unpacking allows you to assign each item in a collection to a variable"
   ]
  },
  {
   "cell_type": "code",
   "execution_count": 10,
   "id": "eaf7b418-2e3b-4e59-88e8-997c8fa68891",
   "metadata": {},
   "outputs": [
    {
     "name": "stdout",
     "output_type": "stream",
     "text": [
      "1\n",
      "2\n",
      "3\n",
      "[4, 5]\n"
     ]
    }
   ],
   "source": [
    "# example\n",
    "numbers = (1,2,3,4,5)\n",
    "# a variable that is prefaced with * takes all values from the collection that a left over from the other variables\n",
    "one, two, three, *four = numbers\n",
    "print(one)\n",
    "print(two)\n",
    "print(three)\n",
    "print(four)\n"
   ]
  },
  {
   "cell_type": "markdown",
   "id": "8e846257-a2a5-4b63-a8b2-6a6401d54812",
   "metadata": {},
   "source": [
    "# Sets\n",
    "Sets are similar to lists or dictionaries. They are created using curly braces, and are unordered, which means that they can't be indexed.\n",
    "Due to the way they're stored, it's faster to check whether an item is part of a set using the 'in' operator, rather than part of a list.\n",
    "Sets cannot contain duplicate elements."
   ]
  },
  {
   "cell_type": "code",
   "execution_count": 3,
   "id": "4689a490-9672-4e01-a437-cf97644c30ed",
   "metadata": {},
   "outputs": [
    {
     "name": "stdout",
     "output_type": "stream",
     "text": [
      "{1, 2, 3, 4}\n",
      "1\n",
      "2\n",
      "3\n",
      "4\n"
     ]
    }
   ],
   "source": [
    "num_set = {1,2,3,4}\n",
    "print(num_set)\n",
    "for i in num_set:\n",
    "    print(i)"
   ]
  },
  {
   "cell_type": "code",
   "execution_count": 4,
   "id": "28246092-dda4-4de8-a6f1-28192c70d1c9",
   "metadata": {},
   "outputs": [
    {
     "name": "stdout",
     "output_type": "stream",
     "text": [
      "1\n"
     ]
    }
   ],
   "source": [
    "letters = {'a','b','c','d'}\n",
    "if 'e' not in letters:\n",
    "    print(1)\n",
    "else:\n",
    "    print(2)"
   ]
  },
  {
   "cell_type": "raw",
   "id": "cb8e48dc-d6eb-4934-b43d-8c45df3c72fe",
   "metadata": {},
   "source": [
    "You can use the add() function to add new items to the set, and remove() to delete a specific element"
   ]
  },
  {
   "cell_type": "code",
   "execution_count": 8,
   "id": "99d4e30c-904c-4ac0-ad68-fa1cca69ca50",
   "metadata": {},
   "outputs": [
    {
     "name": "stdout",
     "output_type": "stream",
     "text": [
      "{1, 2, 3, 4, 5}\n",
      "{1, 2, 3, 4, 5, -7}\n",
      "{2, 3, 4, 5, -7}\n"
     ]
    }
   ],
   "source": [
    "nums = {1,2,3,4,5}\n",
    "print(nums)\n",
    "nums.add(-7)\n",
    "print(nums)\n",
    "nums.remove(1)\n",
    "print(nums)"
   ]
  },
  {
   "cell_type": "raw",
   "id": "84971796-7d1d-4e46-9836-d458cd3c0029",
   "metadata": {},
   "source": [
    "Duplicate elements will automatically get remove from the set\n",
    "The len() function can be used to return the number of elements in a set."
   ]
  },
  {
   "cell_type": "code",
   "execution_count": 10,
   "id": "d9b23f00-9004-4859-8604-42228ffb40f4",
   "metadata": {},
   "outputs": [
    {
     "name": "stdout",
     "output_type": "stream",
     "text": [
      "5\n"
     ]
    }
   ],
   "source": [
    "new_nums = {1,2,1,2,3,4,5}\n",
    "print(new_nums)\n",
    "print(len(new_nums))"
   ]
  },
  {
   "cell_type": "raw",
   "id": "e1b53dcc-b1cf-4ab0-887c-9debaae57d31",
   "metadata": {},
   "source": [
    "Sets can be combined using mathematical operations.\n",
    "The union operator | combines two sets to form a new one containing items in either\n",
    "The intersection operator & get items only in both\n",
    "The difference operator - gets items in the first set nut not in the second \n",
    "The symmetric difference operator ^ get items in either set, but not both"
   ]
  },
  {
   "cell_type": "code",
   "execution_count": 13,
   "id": "75ee4236-cb57-412e-9970-6965f5c45a99",
   "metadata": {},
   "outputs": [
    {
     "name": "stdout",
     "output_type": "stream",
     "text": [
      "Union:  {1, 2, 3, 4, 5, 6, 7, 8, 9}\n",
      "Intersection:  {4, 5}\n",
      "Difference:  {1, 2, 3}\n",
      "Symmetric difference:  {1, 2, 3, 6, 7, 8, 9}\n"
     ]
    }
   ],
   "source": [
    "first = {1,2,3,4,5}\n",
    "second = {4,5,6,7,8,9}\n",
    "print('Union: ',first | second)\n",
    "print('Intersection: ', first & second)\n",
    "print('Difference: ', first - second)\n",
    "print('Symmetric difference: ', first ^ second)"
   ]
  }
 ],
 "metadata": {
  "kernelspec": {
   "display_name": "Python 3 (ipykernel)",
   "language": "python",
   "name": "python3"
  },
  "language_info": {
   "codemirror_mode": {
    "name": "ipython",
    "version": 3
   },
   "file_extension": ".py",
   "mimetype": "text/x-python",
   "name": "python",
   "nbconvert_exporter": "python",
   "pygments_lexer": "ipython3",
   "version": "3.12.4"
  }
 },
 "nbformat": 4,
 "nbformat_minor": 5
}
