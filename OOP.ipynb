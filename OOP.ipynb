{
 "cells": [
  {
   "cell_type": "markdown",
   "id": "f4fe2692-faaa-4df2-a3e8-86931918ff24",
   "metadata": {},
   "source": [
    "# Object-Oriented Programming"
   ]
  },
  {
   "cell_type": "markdown",
   "id": "f57ca190-3cd9-4541-aaac-69aac416274b",
   "metadata": {},
   "source": [
    "# Classes\n",
    "The focal point of OOP are objects, which are created using classes. The class describe what the object willbe, but is seperate from the object itself. In other words, a class can be described as an object's blueprint, description, or definition.\n",
    "\n",
    "The init method is the most important method in a class. This is called when(object) of the class is created using the class name as a function."
   ]
  },
  {
   "cell_type": "code",
   "execution_count": 3,
   "id": "84638415-2274-4b8b-bf7e-ef0434e33a31",
   "metadata": {},
   "outputs": [
    {
     "name": "stdout",
     "output_type": "stream",
     "text": [
      "<class '__main__.Cat'>\n",
      "ginger\n"
     ]
    }
   ],
   "source": [
    "class Cat:\n",
    "    def __init__(self, color, legs):\n",
    "        self.color = color\n",
    "        self.legs = legs\n",
    "\n",
    "felix = Cat('ginger', 4)\n",
    "rover = Cat('dog-colored', 4)\n",
    "stumpy = Cat('brown', 3)\n",
    "\n",
    "print(type(felix))\n",
    "print(felix.color)"
   ]
  },
  {
   "cell_type": "code",
   "execution_count": 5,
   "id": "8af4d97d-d21b-4c25-817a-cfa78a0a08df",
   "metadata": {},
   "outputs": [
    {
     "name": "stdout",
     "output_type": "stream",
     "text": [
      "<__main__.Car object at 0x107cc9010>\n"
     ]
    }
   ],
   "source": [
    "class Car:\n",
    "    def __init__(self, brand, color, engine):\n",
    "        self. brand = brand\n",
    "        self.color = color\n",
    "        self.engine = engine\n",
    "\n",
    "A4 = Car('Audi','Blue','v4')\n",
    "c300 = Car('Mercedese', 'Black','v6')\n",
    "P406 = Car('Peogeut', 'Gray', 'v6')\n",
    "\n",
    "print(P406)"
   ]
  },
  {
   "cell_type": "code",
   "execution_count": 6,
   "id": "ad4dcd2c-fd4f-4300-8978-8c0a2b144c1f",
   "metadata": {},
   "outputs": [
    {
     "name": "stdout",
     "output_type": "stream",
     "text": [
      "Woof\n"
     ]
    }
   ],
   "source": [
    "class Dog:\n",
    "    def __init__(self, color, breed):\n",
    "        self.color = color\n",
    "        self.breed = breed\n",
    "\n",
    "    def bark(self):\n",
    "        print('Woof')\n",
    "\n",
    "boy = Dog('ginger', 'african')\n",
    "boy.bark()"
   ]
  },
  {
   "cell_type": "code",
   "execution_count": 24,
   "id": "2a534b0a-802c-41c8-a65f-10981444bfc8",
   "metadata": {},
   "outputs": [
    {
     "name": "stdout",
     "output_type": "stream",
     "text": [
      "amar  (Level  11 )\n"
     ]
    }
   ],
   "source": [
    "class Player:\n",
    "    def __init__(self, name, level):\n",
    "        self.name = name\n",
    "        self.level = level\n",
    "\n",
    "    def intro(self):\n",
    "        print(self.name, ' (Level ', self.level, ')')\n",
    "\n",
    "player_name = 'amar'\n",
    "player_level = 11\n",
    "player = Player(player_name, player_level)\n",
    "\n",
    "player.intro()"
   ]
  },
  {
   "cell_type": "markdown",
   "id": "ed5e8c59-a16a-4c6d-aeaf-50d19d34e469",
   "metadata": {},
   "source": [
    "# Inheritance\n",
    "Inheritance provides a way to share functionality between classes. Imagine several classes, Dog, Cat, Rabbit, and so on. Although they may differ in some ways(only dog might have the method bark), they are likely to be similar in others (all having attributes color and name)."
   ]
  },
  {
   "cell_type": "code",
   "execution_count": 23,
   "id": "e224fcc8-5ab3-47ab-8957-3ef7b2273286",
   "metadata": {},
   "outputs": [
    {
     "name": "stdout",
     "output_type": "stream",
     "text": [
      "marcus and scooby are frineds!\n",
      "marcus is ginger and scooby is black\n",
      "marcus : meow...\n",
      "scooby: woof..\n"
     ]
    }
   ],
   "source": [
    "# superclass\n",
    "class Animal:\n",
    "    def __init__(self, color, name):\n",
    "        self.color = color\n",
    "        self.name = name\n",
    "\n",
    "# subclasses\n",
    "class Cat(Animal):\n",
    "    def purr(self):\n",
    "        print(self.name,': meow...')\n",
    "\n",
    "class Dog(Animal):\n",
    "    # defining a method \n",
    "    def bark(self):\n",
    "        print(self.name + ':', 'woof..')\n",
    "\n",
    "# objects\n",
    "cat1 = Cat('ginger', 'marcus')\n",
    "dog1 = Dog('black', 'scooby')\n",
    "\n",
    "# messing around and calling some methods\n",
    "print(cat1.name, 'and', dog1.name, 'are frineds!')\n",
    "print(cat1.name, 'is', cat1.color, 'and', dog1.name, 'is', dog1.color)\n",
    "\n",
    "cat1.purr()\n",
    "dog1.bark()"
   ]
  },
  {
   "cell_type": "code",
   "execution_count": 27,
   "id": "f86b5001-6738-4d2f-8018-237a0fb6def0",
   "metadata": {},
   "outputs": [
    {
     "name": "stdout",
     "output_type": "stream",
     "text": [
      "2\n",
      "1\n"
     ]
    }
   ],
   "source": [
    "# superclass\n",
    "class A:\n",
    "    def spam(self):\n",
    "        print(1)\n",
    "\n",
    "# subclass\n",
    "class B(A):\n",
    "    def spam(self):\n",
    "             print(2)\n",
    "        # the super() function calls the spam method of the super class A\n",
    "             super().spam()\n",
    "\n",
    "# calling class B without creating an object.\n",
    "B().spam()"
   ]
  }
 ],
 "metadata": {
  "kernelspec": {
   "display_name": "Python 3 (ipykernel)",
   "language": "python",
   "name": "python3"
  },
  "language_info": {
   "codemirror_mode": {
    "name": "ipython",
    "version": 3
   },
   "file_extension": ".py",
   "mimetype": "text/x-python",
   "name": "python",
   "nbconvert_exporter": "python",
   "pygments_lexer": "ipython3",
   "version": "3.12.4"
  }
 },
 "nbformat": 4,
 "nbformat_minor": 5
}
